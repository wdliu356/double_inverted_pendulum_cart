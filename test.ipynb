{
 "cells": [
  {
   "attachments": {},
   "cell_type": "markdown",
   "metadata": {},
   "source": [
    "## Test of inverted double pendulum control with mppi\n"
   ]
  },
  {
   "cell_type": "code",
   "execution_count": 2,
   "metadata": {},
   "outputs": [],
   "source": [
    "import torch\n",
    "import numpy as np\n",
    "import pybullet as p\n",
    "import pybullet_data as pd\n",
    "from base_env import BaseEnv\n",
    "import gym\n",
    "from mppi import MPPI\n",
    "import matplotlib.pyplot as plt\n",
    "import time\n",
    "from matplotlib.animation import FuncAnimation\n",
    "from IPython import display\n",
    "from tqdm.notebook import tqdm\n",
    "from celluloid import Camera\n",
    "import os\n",
    "import imageio"
   ]
  },
  {
   "cell_type": "code",
   "execution_count": 3,
   "metadata": {},
   "outputs": [],
   "source": [
    "%load_ext autoreload\n",
    "%autoreload 2"
   ]
  },
  {
   "cell_type": "code",
   "execution_count": 3,
   "metadata": {},
   "outputs": [
    {
     "data": {
      "application/vnd.jupyter.widget-view+json": {
       "model_id": "dd34ee990cb843c3883157ee0003aa1a",
       "version_major": 2,
       "version_minor": 0
      },
      "text/plain": [
       "  0%|          | 0/100 [00:00<?, ?it/s]"
      ]
     },
     "metadata": {},
     "output_type": "display_data"
    },
    {
     "name": "stderr",
     "output_type": "stream",
     "text": [
      "/tmp/ipykernel_629/2988749054.py:56: DeprecationWarning: Starting with ImageIO v3 the behavior of this function will switch to that of iio.v3.imread. To keep the current behavior (and make this warning disappear) use `import imageio.v2 as imageio` or call `imageio.v2.imread` directly.\n",
      "  images.append(imageio.imread(filename))\n"
     ]
    }
   ],
   "source": [
    "from double_pendulum_system import *\n",
    "controller = DoublePendulumControl(dynamics=dynamics_analytic,cost_function=cost_function)\n",
    "initial_state = torch.from_numpy(np.random.randn(6))\n",
    "initial_state = torch.tensor([0,0,np.pi,0,np.pi,0])\n",
    "state = initial_state\n",
    "target = torch.tensor([0,0,0,0,0,0])\n",
    "num_steps = 100\n",
    "pbar = tqdm(range(num_steps))\n",
    "\n",
    "if not os.path.exists('plots'):\n",
    "    os.makedirs('plots')\n",
    "    \n",
    "action = controller.control_calcu(state)\n",
    "state = dynamics_analytic(state,action)\n",
    "\n",
    "for i in pbar:\n",
    "    \n",
    "    action = controller.control_calcu(state)\n",
    "    # print(action)\n",
    "    \n",
    "    # action -= K*state[0]\n",
    "\n",
    "    state = dynamics_analytic(state,action)\n",
    "    state = state.squeeze()\n",
    "    # print(state)\n",
    "    error_i = np.linalg.norm(state[1:]-target[1:])\n",
    "    pbar.set_description(f'Goal Error: {error_i:.4f}')\n",
    "\n",
    "    # --- Start plotting\n",
    "    fig, ax = plt.subplots()\n",
    "    ax = plt.axes(xlim=(state[0]-10, state[0]+10), ylim=(-2, 2))\n",
    "    ax.set_aspect('equal')\n",
    "    ax.grid()\n",
    "    ax.set_xlabel('x')\n",
    "    ax.set_ylabel('y')\n",
    "    ax.set_title('Double Pendulum at t={:.2f}'.format(i*0.05))\n",
    "    x = state[0]\n",
    "    theta1 = state[2]\n",
    "    theta2 = state[4]\n",
    "    L1 = 0.5\n",
    "    L2 = 0.5\n",
    "    x1 = x + L1*torch.sin(theta1)\n",
    "    y1 = L1*torch.cos(theta1)\n",
    "    x2 = x1 + L2*torch.sin(theta2)\n",
    "    y2 = y1 + L2*torch.cos(theta2)\n",
    "    plt.plot([x,x1],[0,y1],color='black')   \n",
    "    plt.plot([x1,x2],[y1,y2],color='black')\n",
    "    filename = os.path.join('plots', 'plot_{:03d}.png'.format(i))\n",
    "    # plt.show()\n",
    "    plt.savefig(filename)\n",
    "    plt.close()\n",
    "    if error_i < 0.1:\n",
    "        break\n",
    "    # --- End plotting\n",
    "\n",
    "images = []\n",
    "for i in range(num_steps):\n",
    "    filename = os.path.join('plots', 'plot_{:03d}.png'.format(i))\n",
    "    images.append(imageio.imread(filename))\n",
    "imageio.mimsave('double_pendulum.gif', images, duration=0.1)\n",
    "\n"
   ]
  },
  {
   "cell_type": "code",
   "execution_count": 75,
   "metadata": {},
   "outputs": [
    {
     "data": {
      "application/vnd.jupyter.widget-view+json": {
       "model_id": "4edfc78741c54bdda6a638d17f910953",
       "version_major": 2,
       "version_minor": 0
      },
      "text/plain": [
       "  0%|          | 0/100 [00:00<?, ?it/s]"
      ]
     },
     "metadata": {},
     "output_type": "display_data"
    },
    {
     "name": "stderr",
     "output_type": "stream",
     "text": [
      "c:\\Users\\Lamfu\\PycharmProjects\\ROB_498\\venv\\double_inverted_pendulum_cart\\DDPController.py:195: RuntimeWarning: invalid value encountered in matmul\n",
      "  delta_x = X_new[t] - X[t]\n"
     ]
    },
    {
     "name": "stdout",
     "output_type": "stream",
     "text": [
      "[-46.1223637]\n",
      "[0.63669396]\n"
     ]
    },
    {
     "name": "stderr",
     "output_type": "stream",
     "text": [
      "c:\\Users\\Lamfu\\PycharmProjects\\ROB_498\\venv\\double_inverted_pendulum_cart\\doublePendulumDynamics.py:37: RuntimeWarning: invalid value encountered in multiply\n",
      "  theta_ddot = np.linalg.inv(D) @ (H*control - C @ theta_dot - G)\n"
     ]
    },
    {
     "name": "stdout",
     "output_type": "stream",
     "text": [
      "[150.1996712]\n",
      "[0.75749229]\n",
      "[0.32079809]\n",
      "[0.34639107]\n",
      "[0.06763634]\n",
      "[-57.54926664]\n",
      "[0.67025652]\n",
      "[0.56969075]\n",
      "[0.24554611]\n",
      "[0.65716639]\n",
      "[0.80079974]\n",
      "[0.77518177]\n",
      "[0.36239202]\n",
      "[0.189004]\n",
      "[0.47392713]\n",
      "[0.42254095]\n",
      "[0.80635789]\n",
      "[0.102381]\n",
      "[0.92424974]\n",
      "[0.73780077]\n",
      "[0.85739853]\n",
      "[0.01192433]\n",
      "[0.58650158]\n",
      "[0.22235078]\n",
      "[0.85006662]\n",
      "[0.18498486]\n",
      "[0.52441733]\n",
      "[0.62721104]\n",
      "[0.83258587]\n",
      "[0.62780704]\n",
      "[0.81917895]\n",
      "[0.29920444]\n",
      "[0.80964213]\n",
      "[0.8251]\n",
      "[0.02562339]\n",
      "[0.03513459]\n",
      "[0.86848161]\n",
      "[0.50147543]\n",
      "[0.93312206]\n",
      "[0.68351009]\n",
      "[0.32742251]\n",
      "[0.64177411]\n",
      "[0.02305905]\n",
      "[0.38436244]\n",
      "[0.94714449]\n",
      "[0.97082909]\n",
      "[0.13600664]\n",
      "[0.62124286]\n",
      "[0.95450637]\n",
      "[0.57410571]\n",
      "[0.32678638]\n",
      "[0.92498578]\n"
     ]
    },
    {
     "name": "stderr",
     "output_type": "stream",
     "text": [
      "c:\\Users\\Lamfu\\PycharmProjects\\ROB_498\\venv\\lib\\site-packages\\autograd\\tracer.py:48: RuntimeWarning: invalid value encountered in subtract\n",
      "  return f_raw(*args, **kwargs)\n"
     ]
    },
    {
     "name": "stdout",
     "output_type": "stream",
     "text": [
      "[0.57309674]\n",
      "[0.32702774]\n",
      "[0.23911889]\n",
      "[0.59170597]\n",
      "[0.97288665]\n",
      "[0.67203043]\n",
      "[0.93879717]\n",
      "[0.74482133]\n",
      "[0.4945553]\n",
      "[0.71727902]\n",
      "[0.48817819]\n",
      "[0.04123768]\n",
      "[0.29338921]\n",
      "[0.75741355]\n",
      "[0.41499599]\n",
      "[0.08972932]\n",
      "[0.8020306]\n",
      "[0.05548415]\n"
     ]
    },
    {
     "name": "stderr",
     "output_type": "stream",
     "text": [
      "c:\\Users\\Lamfu\\PycharmProjects\\ROB_498\\venv\\lib\\site-packages\\autograd\\core.py:212: RuntimeWarning: overflow encountered in add\n",
      "  def _add(self, x, y):        return x + y\n"
     ]
    },
    {
     "name": "stdout",
     "output_type": "stream",
     "text": [
      "[0.09726027]\n",
      "[0.30095063]\n",
      "[0.22685252]\n",
      "[0.0483142]\n",
      "[0.03765291]\n",
      "[0.86671715]\n",
      "[0.42036901]\n",
      "[0.92557802]\n",
      "[0.40859504]\n",
      "[0.65020952]\n",
      "[0.90462286]\n",
      "[0.65501261]\n",
      "[0.31524663]\n",
      "[0.69043087]\n",
      "[0.01537515]\n",
      "[0.19937665]\n",
      "[0.64822478]\n",
      "[0.42966738]\n",
      "[0.78363945]\n"
     ]
    },
    {
     "name": "stderr",
     "output_type": "stream",
     "text": [
      "C:\\Users\\Lamfu\\AppData\\Local\\Temp\\ipykernel_27012\\3486760303.py:75: UserWarning: Attempting to set identical low and high xlims makes transformation singular; automatically expanding.\n",
      "  ax = plt.axes(xlim=(state[0]-10, state[0]+10), ylim=(-2, 2))\n"
     ]
    },
    {
     "name": "stdout",
     "output_type": "stream",
     "text": [
      "[0.21017211]\n",
      "[0.21600695]\n",
      "[0.40253263]\n",
      "[0.12934372]\n"
     ]
    },
    {
     "ename": "ValueError",
     "evalue": "Axis limits cannot be NaN or Inf",
     "output_type": "error",
     "traceback": [
      "\u001b[1;31m---------------------------------------------------------------------------\u001b[0m",
      "\u001b[1;31mValueError\u001b[0m                                Traceback (most recent call last)",
      "Cell \u001b[1;32mIn[75], line 75\u001b[0m\n\u001b[0;32m     46\u001b[0m \u001b[39m# --- Start plotting\u001b[39;00m\n\u001b[0;32m     47\u001b[0m \n\u001b[0;32m     48\u001b[0m \u001b[39m# ax = plt.axes(xlim=(state[0]-10, state[0]+10), ylim=(-2, 2))\u001b[39;00m\n\u001b[1;32m   (...)\u001b[0m\n\u001b[0;32m     72\u001b[0m \n\u001b[0;32m     73\u001b[0m \u001b[39m# --- Start plotting\u001b[39;00m\n\u001b[0;32m     74\u001b[0m fig, ax \u001b[39m=\u001b[39m plt\u001b[39m.\u001b[39msubplots()\n\u001b[1;32m---> 75\u001b[0m ax \u001b[39m=\u001b[39m plt\u001b[39m.\u001b[39;49maxes(xlim\u001b[39m=\u001b[39;49m(state[\u001b[39m0\u001b[39;49m]\u001b[39m-\u001b[39;49m\u001b[39m10\u001b[39;49m, state[\u001b[39m0\u001b[39;49m]\u001b[39m+\u001b[39;49m\u001b[39m10\u001b[39;49m), ylim\u001b[39m=\u001b[39;49m(\u001b[39m-\u001b[39;49m\u001b[39m2\u001b[39;49m, \u001b[39m2\u001b[39;49m))\n\u001b[0;32m     76\u001b[0m ax\u001b[39m.\u001b[39mset_aspect(\u001b[39m'\u001b[39m\u001b[39mequal\u001b[39m\u001b[39m'\u001b[39m)\n\u001b[0;32m     77\u001b[0m ax\u001b[39m.\u001b[39mgrid()\n",
      "File \u001b[1;32mc:\\Users\\Lamfu\\PycharmProjects\\ROB_498\\venv\\lib\\site-packages\\matplotlib\\pyplot.py:1069\u001b[0m, in \u001b[0;36maxes\u001b[1;34m(arg, **kwargs)\u001b[0m\n\u001b[0;32m   1067\u001b[0m \u001b[39mif\u001b[39;00m arg \u001b[39mis\u001b[39;00m \u001b[39mNone\u001b[39;00m:\n\u001b[0;32m   1068\u001b[0m     \u001b[39mif\u001b[39;00m pos \u001b[39mis\u001b[39;00m \u001b[39mNone\u001b[39;00m:\n\u001b[1;32m-> 1069\u001b[0m         \u001b[39mreturn\u001b[39;00m fig\u001b[39m.\u001b[39madd_subplot(\u001b[39m*\u001b[39m\u001b[39m*\u001b[39mkwargs)\n\u001b[0;32m   1070\u001b[0m     \u001b[39melse\u001b[39;00m:\n\u001b[0;32m   1071\u001b[0m         \u001b[39mreturn\u001b[39;00m fig\u001b[39m.\u001b[39madd_axes(pos, \u001b[39m*\u001b[39m\u001b[39m*\u001b[39mkwargs)\n",
      "File \u001b[1;32mc:\\Users\\Lamfu\\PycharmProjects\\ROB_498\\venv\\lib\\site-packages\\matplotlib\\figure.py:746\u001b[0m, in \u001b[0;36mFigureBase.add_subplot\u001b[1;34m(self, *args, **kwargs)\u001b[0m\n\u001b[0;32m    743\u001b[0m         args \u001b[39m=\u001b[39m \u001b[39mtuple\u001b[39m(\u001b[39mmap\u001b[39m(\u001b[39mint\u001b[39m, \u001b[39mstr\u001b[39m(args[\u001b[39m0\u001b[39m])))\n\u001b[0;32m    744\u001b[0m     projection_class, pkw \u001b[39m=\u001b[39m \u001b[39mself\u001b[39m\u001b[39m.\u001b[39m_process_projection_requirements(\n\u001b[0;32m    745\u001b[0m         \u001b[39m*\u001b[39margs, \u001b[39m*\u001b[39m\u001b[39m*\u001b[39mkwargs)\n\u001b[1;32m--> 746\u001b[0m     ax \u001b[39m=\u001b[39m subplot_class_factory(projection_class)(\u001b[39mself\u001b[39m, \u001b[39m*\u001b[39margs, \u001b[39m*\u001b[39m\u001b[39m*\u001b[39mpkw)\n\u001b[0;32m    747\u001b[0m     key \u001b[39m=\u001b[39m (projection_class, pkw)\n\u001b[0;32m    748\u001b[0m \u001b[39mreturn\u001b[39;00m \u001b[39mself\u001b[39m\u001b[39m.\u001b[39m_add_axes_internal(ax, key)\n",
      "File \u001b[1;32mc:\\Users\\Lamfu\\PycharmProjects\\ROB_498\\venv\\lib\\site-packages\\matplotlib\\axes\\_subplots.py:34\u001b[0m, in \u001b[0;36mSubplotBase.__init__\u001b[1;34m(self, fig, *args, **kwargs)\u001b[0m\n\u001b[0;32m     15\u001b[0m \u001b[39m\u001b[39m\u001b[39m\"\"\"\u001b[39;00m\n\u001b[0;32m     16\u001b[0m \u001b[39mParameters\u001b[39;00m\n\u001b[0;32m     17\u001b[0m \u001b[39m----------\u001b[39;00m\n\u001b[1;32m   (...)\u001b[0m\n\u001b[0;32m     31\u001b[0m \u001b[39m    Keyword arguments are passed to the Axes (sub)class constructor.\u001b[39;00m\n\u001b[0;32m     32\u001b[0m \u001b[39m\"\"\"\u001b[39;00m\n\u001b[0;32m     33\u001b[0m \u001b[39m# _axes_class is set in the subplot_class_factory\u001b[39;00m\n\u001b[1;32m---> 34\u001b[0m \u001b[39mself\u001b[39m\u001b[39m.\u001b[39m_axes_class\u001b[39m.\u001b[39m\u001b[39m__init__\u001b[39m(\u001b[39mself\u001b[39m, fig, [\u001b[39m0\u001b[39m, \u001b[39m0\u001b[39m, \u001b[39m1\u001b[39m, \u001b[39m1\u001b[39m], \u001b[39m*\u001b[39m\u001b[39m*\u001b[39mkwargs)\n\u001b[0;32m     35\u001b[0m \u001b[39m# This will also update the axes position.\u001b[39;00m\n\u001b[0;32m     36\u001b[0m \u001b[39mself\u001b[39m\u001b[39m.\u001b[39mset_subplotspec(SubplotSpec\u001b[39m.\u001b[39m_from_subplot_args(fig, args))\n",
      "File \u001b[1;32mc:\\Users\\Lamfu\\PycharmProjects\\ROB_498\\venv\\lib\\site-packages\\matplotlib\\axes\\_base.py:667\u001b[0m, in \u001b[0;36m_AxesBase.__init__\u001b[1;34m(self, fig, rect, facecolor, frameon, sharex, sharey, label, xscale, yscale, box_aspect, **kwargs)\u001b[0m\n\u001b[0;32m    664\u001b[0m \u001b[39mif\u001b[39;00m yscale:\n\u001b[0;32m    665\u001b[0m     \u001b[39mself\u001b[39m\u001b[39m.\u001b[39mset_yscale(yscale)\n\u001b[1;32m--> 667\u001b[0m \u001b[39mself\u001b[39;49m\u001b[39m.\u001b[39;49m_internal_update(kwargs)\n\u001b[0;32m    669\u001b[0m \u001b[39mfor\u001b[39;00m name, axis \u001b[39min\u001b[39;00m \u001b[39mself\u001b[39m\u001b[39m.\u001b[39m_axis_map\u001b[39m.\u001b[39mitems():\n\u001b[0;32m    670\u001b[0m     axis\u001b[39m.\u001b[39mcallbacks\u001b[39m.\u001b[39m_connect_picklable(\n\u001b[0;32m    671\u001b[0m         \u001b[39m'\u001b[39m\u001b[39munits\u001b[39m\u001b[39m'\u001b[39m, \u001b[39mself\u001b[39m\u001b[39m.\u001b[39m_unit_change_handler(name))\n",
      "File \u001b[1;32mc:\\Users\\Lamfu\\PycharmProjects\\ROB_498\\venv\\lib\\site-packages\\matplotlib\\artist.py:1186\u001b[0m, in \u001b[0;36mArtist._internal_update\u001b[1;34m(self, kwargs)\u001b[0m\n\u001b[0;32m   1179\u001b[0m \u001b[39mdef\u001b[39;00m \u001b[39m_internal_update\u001b[39m(\u001b[39mself\u001b[39m, kwargs):\n\u001b[0;32m   1180\u001b[0m \u001b[39m    \u001b[39m\u001b[39m\"\"\"\u001b[39;00m\n\u001b[0;32m   1181\u001b[0m \u001b[39m    Update artist properties without prenormalizing them, but generating\u001b[39;00m\n\u001b[0;32m   1182\u001b[0m \u001b[39m    errors as if calling `set`.\u001b[39;00m\n\u001b[0;32m   1183\u001b[0m \n\u001b[0;32m   1184\u001b[0m \u001b[39m    The lack of prenormalization is to maintain backcompatibility.\u001b[39;00m\n\u001b[0;32m   1185\u001b[0m \u001b[39m    \"\"\"\u001b[39;00m\n\u001b[1;32m-> 1186\u001b[0m     \u001b[39mreturn\u001b[39;00m \u001b[39mself\u001b[39;49m\u001b[39m.\u001b[39;49m_update_props(\n\u001b[0;32m   1187\u001b[0m         kwargs, \u001b[39m\"\u001b[39;49m\u001b[39m{cls.__name__}\u001b[39;49;00m\u001b[39m.set() got an unexpected keyword argument \u001b[39;49m\u001b[39m\"\u001b[39;49m\n\u001b[0;32m   1188\u001b[0m         \u001b[39m\"\u001b[39;49m\u001b[39m{prop_name!r}\u001b[39;49;00m\u001b[39m\"\u001b[39;49m)\n",
      "File \u001b[1;32mc:\\Users\\Lamfu\\PycharmProjects\\ROB_498\\venv\\lib\\site-packages\\matplotlib\\artist.py:1162\u001b[0m, in \u001b[0;36mArtist._update_props\u001b[1;34m(self, props, errfmt)\u001b[0m\n\u001b[0;32m   1159\u001b[0m             \u001b[39mif\u001b[39;00m \u001b[39mnot\u001b[39;00m callable(func):\n\u001b[0;32m   1160\u001b[0m                 \u001b[39mraise\u001b[39;00m \u001b[39mAttributeError\u001b[39;00m(\n\u001b[0;32m   1161\u001b[0m                     errfmt\u001b[39m.\u001b[39mformat(\u001b[39mcls\u001b[39m\u001b[39m=\u001b[39m\u001b[39mtype\u001b[39m(\u001b[39mself\u001b[39m), prop_name\u001b[39m=\u001b[39mk))\n\u001b[1;32m-> 1162\u001b[0m             ret\u001b[39m.\u001b[39mappend(func(v))\n\u001b[0;32m   1163\u001b[0m \u001b[39mif\u001b[39;00m ret:\n\u001b[0;32m   1164\u001b[0m     \u001b[39mself\u001b[39m\u001b[39m.\u001b[39mpchanged()\n",
      "File \u001b[1;32mc:\\Users\\Lamfu\\PycharmProjects\\ROB_498\\venv\\lib\\site-packages\\matplotlib\\_api\\deprecation.py:454\u001b[0m, in \u001b[0;36mmake_keyword_only.<locals>.wrapper\u001b[1;34m(*args, **kwargs)\u001b[0m\n\u001b[0;32m    448\u001b[0m \u001b[39mif\u001b[39;00m \u001b[39mlen\u001b[39m(args) \u001b[39m>\u001b[39m name_idx:\n\u001b[0;32m    449\u001b[0m     warn_deprecated(\n\u001b[0;32m    450\u001b[0m         since, message\u001b[39m=\u001b[39m\u001b[39m\"\u001b[39m\u001b[39mPassing the \u001b[39m\u001b[39m%(name)s\u001b[39;00m\u001b[39m \u001b[39m\u001b[39m%(obj_type)s\u001b[39;00m\u001b[39m \u001b[39m\u001b[39m\"\u001b[39m\n\u001b[0;32m    451\u001b[0m         \u001b[39m\"\u001b[39m\u001b[39mpositionally is deprecated since Matplotlib \u001b[39m\u001b[39m%(since)s\u001b[39;00m\u001b[39m; the \u001b[39m\u001b[39m\"\u001b[39m\n\u001b[0;32m    452\u001b[0m         \u001b[39m\"\u001b[39m\u001b[39mparameter will become keyword-only \u001b[39m\u001b[39m%(removal)s\u001b[39;00m\u001b[39m.\u001b[39m\u001b[39m\"\u001b[39m,\n\u001b[0;32m    453\u001b[0m         name\u001b[39m=\u001b[39mname, obj_type\u001b[39m=\u001b[39m\u001b[39mf\u001b[39m\u001b[39m\"\u001b[39m\u001b[39mparameter of \u001b[39m\u001b[39m{\u001b[39;00mfunc\u001b[39m.\u001b[39m\u001b[39m__name__\u001b[39m\u001b[39m}\u001b[39;00m\u001b[39m()\u001b[39m\u001b[39m\"\u001b[39m)\n\u001b[1;32m--> 454\u001b[0m \u001b[39mreturn\u001b[39;00m func(\u001b[39m*\u001b[39margs, \u001b[39m*\u001b[39m\u001b[39m*\u001b[39mkwargs)\n",
      "File \u001b[1;32mc:\\Users\\Lamfu\\PycharmProjects\\ROB_498\\venv\\lib\\site-packages\\matplotlib\\axes\\_base.py:3686\u001b[0m, in \u001b[0;36m_AxesBase.set_xlim\u001b[1;34m(self, left, right, emit, auto, xmin, xmax)\u001b[0m\n\u001b[0;32m   3684\u001b[0m         \u001b[39mraise\u001b[39;00m \u001b[39mTypeError\u001b[39;00m(\u001b[39m\"\u001b[39m\u001b[39mCannot pass both \u001b[39m\u001b[39m'\u001b[39m\u001b[39mright\u001b[39m\u001b[39m'\u001b[39m\u001b[39m and \u001b[39m\u001b[39m'\u001b[39m\u001b[39mxmax\u001b[39m\u001b[39m'\u001b[39m\u001b[39m\"\u001b[39m)\n\u001b[0;32m   3685\u001b[0m     right \u001b[39m=\u001b[39m xmax\n\u001b[1;32m-> 3686\u001b[0m \u001b[39mreturn\u001b[39;00m \u001b[39mself\u001b[39;49m\u001b[39m.\u001b[39;49mxaxis\u001b[39m.\u001b[39;49m_set_lim(left, right, emit\u001b[39m=\u001b[39;49memit, auto\u001b[39m=\u001b[39;49mauto)\n",
      "File \u001b[1;32mc:\\Users\\Lamfu\\PycharmProjects\\ROB_498\\venv\\lib\\site-packages\\matplotlib\\axis.py:1112\u001b[0m, in \u001b[0;36mAxis._set_lim\u001b[1;34m(self, v0, v1, emit, auto)\u001b[0m\n\u001b[0;32m   1108\u001b[0m name, \u001b[39m=\u001b[39m [name \u001b[39mfor\u001b[39;00m name, axis \u001b[39min\u001b[39;00m \u001b[39mself\u001b[39m\u001b[39m.\u001b[39maxes\u001b[39m.\u001b[39m_axis_map\u001b[39m.\u001b[39mitems()\n\u001b[0;32m   1109\u001b[0m          \u001b[39mif\u001b[39;00m axis \u001b[39mis\u001b[39;00m \u001b[39mself\u001b[39m]  \u001b[39m# The axis name.\u001b[39;00m\n\u001b[0;32m   1111\u001b[0m \u001b[39mself\u001b[39m\u001b[39m.\u001b[39maxes\u001b[39m.\u001b[39m_process_unit_info([(name, (v0, v1))], convert\u001b[39m=\u001b[39m\u001b[39mFalse\u001b[39;00m)\n\u001b[1;32m-> 1112\u001b[0m v0 \u001b[39m=\u001b[39m \u001b[39mself\u001b[39;49m\u001b[39m.\u001b[39;49maxes\u001b[39m.\u001b[39;49m_validate_converted_limits(v0, \u001b[39mself\u001b[39;49m\u001b[39m.\u001b[39;49mconvert_units)\n\u001b[0;32m   1113\u001b[0m v1 \u001b[39m=\u001b[39m \u001b[39mself\u001b[39m\u001b[39m.\u001b[39maxes\u001b[39m.\u001b[39m_validate_converted_limits(v1, \u001b[39mself\u001b[39m\u001b[39m.\u001b[39mconvert_units)\n\u001b[0;32m   1115\u001b[0m \u001b[39mif\u001b[39;00m v0 \u001b[39mis\u001b[39;00m \u001b[39mNone\u001b[39;00m \u001b[39mor\u001b[39;00m v1 \u001b[39mis\u001b[39;00m \u001b[39mNone\u001b[39;00m:\n\u001b[0;32m   1116\u001b[0m     \u001b[39m# Axes init calls set_xlim(0, 1) before get_xlim() can be called,\u001b[39;00m\n\u001b[0;32m   1117\u001b[0m     \u001b[39m# so only grab the limits if we really need them.\u001b[39;00m\n",
      "File \u001b[1;32mc:\\Users\\Lamfu\\PycharmProjects\\ROB_498\\venv\\lib\\site-packages\\matplotlib\\axes\\_base.py:3606\u001b[0m, in \u001b[0;36m_AxesBase._validate_converted_limits\u001b[1;34m(self, limit, convert)\u001b[0m\n\u001b[0;32m   3603\u001b[0m converted_limit \u001b[39m=\u001b[39m convert(limit)\n\u001b[0;32m   3604\u001b[0m \u001b[39mif\u001b[39;00m (\u001b[39misinstance\u001b[39m(converted_limit, Real)\n\u001b[0;32m   3605\u001b[0m         \u001b[39mand\u001b[39;00m \u001b[39mnot\u001b[39;00m np\u001b[39m.\u001b[39misfinite(converted_limit)):\n\u001b[1;32m-> 3606\u001b[0m     \u001b[39mraise\u001b[39;00m \u001b[39mValueError\u001b[39;00m(\u001b[39m\"\u001b[39m\u001b[39mAxis limits cannot be NaN or Inf\u001b[39m\u001b[39m\"\u001b[39m)\n\u001b[0;32m   3607\u001b[0m \u001b[39mreturn\u001b[39;00m converted_limit\n",
      "\u001b[1;31mValueError\u001b[0m: Axis limits cannot be NaN or Inf"
     ]
    },
    {
     "data": {
      "image/png": "[encoded data removed]",
      "text/plain": [
       "<Figure size 640x480 with 1 Axes>"
      ]
     },
     "metadata": {},
     "output_type": "display_data"
    }
   ],
   "source": [
    "from DDPController import *\n",
    "from doublePendulumDynamics import *\n",
    "import autograd.numpy as np\n",
    "\n",
    "if not os.path.exists('plots'):\n",
    "    os.makedirs('plots')\n",
    "\n",
    "state_dim = 6\n",
    "action_dim = 1\n",
    "x_final = np.array([.0, .0, .0, .0, .0, .0])\n",
    "# Q = np.diag([1., 1., 1., 1., 1., 1.])\n",
    "# Q = np.diag([10., 10., 5000., 100., 5000., 100.])\n",
    "Q = np.diag([50., 200., 1000., 100., 1000., 100.])\n",
    "R = np.array([[.3]])\n",
    "terminal_scale = 100.\n",
    "cost = Cost(x_final, terminal_scale, Q, R)\n",
    "dynamics_analytic = dynamics_numpy\n",
    "\n",
    "controller = DDPcontroller(dynamics_analytic, cost)\n",
    "# initial_state = np.random.randn(state_dim)\n",
    "initial_state = np.array([0,0,np.pi,0,np.pi,0])\n",
    "# initial_state = np.array([.0, .0, .0, .0, .0, .0])\n",
    "state = initial_state\n",
    "\n",
    "target = x_final\n",
    "\n",
    "num_steps = 100\n",
    "pbar = tqdm(range(num_steps))\n",
    "\n",
    "if not os.path.exists('plots'):\n",
    "    os.makedirs('plots')\n",
    "\n",
    "for i in pbar:\n",
    "    \n",
    "    action = controller.command(state)\n",
    "    print(action)\n",
    "    \n",
    "    # action -= K*state[0]\n",
    "\n",
    "    state = dynamics_analytic(state,action)\n",
    "    state = state.squeeze()\n",
    "    # print(state)\n",
    "    error_i = np.linalg.norm(state[1:]-target[1:])\n",
    "    pbar.set_description(f'Goal Error: {error_i:.4f}')\n",
    "\n",
    "    # --- Start plotting\n",
    "\n",
    "    # ax = plt.axes(xlim=(state[0]-10, state[0]+10), ylim=(-2, 2))\n",
    "    # ax.set_aspect('equal')\n",
    "    # ax.grid()\n",
    "    # ax.set_xlabel('x')\n",
    "    # ax.set_ylabel('y')\n",
    "    # ax.set_title('Double Pendulum at t={:.2f}'.format(i*0.05))\n",
    "    # x = state[0]\n",
    "    # theta1 = state[2]\n",
    "    # theta2 = state[4]\n",
    "    # L1 = 0.5\n",
    "    # L2 = 0.5\n",
    "    # x1 = x + L1*np.sin(theta1)\n",
    "    # y1 = L1*np.cos(theta1)\n",
    "    # x2 = x1 + L2*np.sin(theta2)\n",
    "    # y2 = y1 + L2*np.cos(theta2)\n",
    "    # plt.plot([x,x1],[0,y1],color='black')   \n",
    "    # plt.plot([x1,x2],[y1,y2],color='black')\n",
    "    # plt.draw()\n",
    "    # plt.pause(1e-17)\n",
    "    # # time.sleep(0.025)\n",
    "    # plt.clf()\n",
    "    # if error_i < 0.1:\n",
    "    #     break\n",
    "\n",
    "\n",
    "    # --- Start plotting\n",
    "    fig, ax = plt.subplots()\n",
    "    ax = plt.axes(xlim=(state[0]-10, state[0]+10), ylim=(-2, 2))\n",
    "    ax.set_aspect('equal')\n",
    "    ax.grid()\n",
    "    ax.set_xlabel('x')\n",
    "    ax.set_ylabel('y')\n",
    "    ax.set_title('Double Pendulum at t={:.2f}'.format(i*0.05))\n",
    "    x = state[0]\n",
    "    theta1 = state[2]\n",
    "    theta2 = state[4]\n",
    "    L1 = 0.5\n",
    "    L2 = 0.5\n",
    "    x1 = x + L1*np.sin(theta1)\n",
    "    y1 = L1*np.cos(theta1)\n",
    "    x2 = x1 + L2*np.sin(theta2)\n",
    "    y2 = y1 + L2*np.cos(theta2)\n",
    "    plt.plot([x,x1],[0,y1],color='black')   \n",
    "    plt.plot([x1,x2],[y1,y2],color='black')\n",
    "    filename = os.path.join('plots', 'plot_{:03d}.png'.format(i))\n",
    "    # plt.show()\n",
    "    plt.savefig(filename)\n",
    "    plt.close()\n",
    "    if error_i < 0.1:\n",
    "        break\n",
    "    # --- End plotting\n",
    "\n",
    "images = []\n",
    "for i in range(num_steps):\n",
    "    filename = os.path.join('plots', 'plot_{:03d}.png'.format(i))\n",
    "    images.append(imageio.imread(filename))\n",
    "imageio.mimsave('double_pendulum.gif', images, duration=0.1)\n",
    "    # --- End plotting\n",
    "plt.show()\n",
    "plt.close()\n",
    "\n"
   ]
  },
  {
   "cell_type": "code",
   "execution_count": 72,
   "metadata": {},
   "outputs": [
    {
     "name": "stdout",
     "output_type": "stream",
     "text": [
      "[1, 2, 3, 4]\n",
      "[4, 3, 2, 1]\n",
      "(1, 6)\n",
      "(6,)\n",
      "(1,)\n"
     ]
    }
   ],
   "source": [
    "a = [1,2,3,4]\n",
    "print(a)\n",
    "a.reverse()\n",
    "print(a)\n",
    "a = np.random.randn(1,6)\n",
    "b = np.random.randn(6)\n",
    "print(a.shape)\n",
    "print(b.shape)\n",
    "c = a @ b\n",
    "print(c.shape)"
   ]
  },
  {
   "cell_type": "code",
   "execution_count": 31,
   "metadata": {},
   "outputs": [
    {
     "data": {
      "application/vnd.jupyter.widget-view+json": {
       "model_id": "0c9baf73113d4aaba05049993ec3c080",
       "version_major": 2,
       "version_minor": 0
      },
      "text/plain": [
       "  0%|          | 0/100 [00:00<?, ?it/s]"
      ]
     },
     "metadata": {},
     "output_type": "display_data"
    },
    {
     "data": {
      "image/png": "[encoded data removed]",
      "text/plain": [
       "<Figure size 640x480 with 1 Axes>"
      ]
     },
     "metadata": {},
     "output_type": "display_data"
    }
   ],
   "source": [
    "\n",
    "# %load_ext autoreload\n",
    "# %autoreload 2\n",
    "\n",
    "from double_pendulum_system import *\n",
    "controller = DoublePendulumControl(dynamics=dynamics_analytic,cost_function=cost_function)\n",
    "# initial_state = torch.from_numpy(np.random.randn(6))\n",
    "initial_state = torch.tensor([0,0,np.pi,0,np.pi,0])\n",
    "state = initial_state\n",
    "target = torch.tensor([0,0,0,0,0,0])\n",
    "num_steps = 100\n",
    "pbar = tqdm(range(num_steps))\n",
    "\n",
    "# if not os.path.exists('plots'):\n",
    "#     os.makedirs('plots')\n",
    "\n",
    "fig, ax = plt.subplots()\n",
    "for i in pbar:\n",
    "    \n",
    "    action = controller.control_calcu(state)\n",
    "    # print(action)\n",
    "    \n",
    "    # action -= K*state[0]\n",
    "\n",
    "    state = dynamics_analytic(state,action)\n",
    "    state = state.squeeze()\n",
    "    # print(state)\n",
    "    error_i = np.linalg.norm(state[1:]-target[1:])\n",
    "    pbar.set_description(f'Goal Error: {error_i:.4f}')\n",
    "\n",
    "    # --- Start plotting\n",
    "\n",
    "    # ax = plt.axes(xlim=(state[0]-10, state[0]+10), ylim=(-2, 2))\n",
    "    # ax.set_aspect('equal')\n",
    "    # ax.grid()\n",
    "    # ax.set_xlabel('x')\n",
    "    # ax.set_ylabel('y')\n",
    "    # ax.set_title('Double Pendulum at t={:.2f}'.format(i*0.05))\n",
    "    # x = state[0]\n",
    "    # theta1 = state[2]\n",
    "    # theta2 = state[4]\n",
    "    # L1 = 0.5\n",
    "    # L2 = 0.5\n",
    "    # x1 = x + L1*torch.sin(theta1)\n",
    "    # y1 = L1*torch.cos(theta1)\n",
    "    # x2 = x1 + L2*torch.sin(theta2)\n",
    "    # y2 = y1 + L2*torch.cos(theta2)\n",
    "    # plt.plot([x,x1],[0,y1],color='black')   \n",
    "    # plt.plot([x1,x2],[y1,y2],color='black')\n",
    "    # plt.draw()\n",
    "    # plt.pause(1e-17)\n",
    "    # # time.sleep(0.025)\n",
    "    # plt.clf()\n",
    "    \n",
    "    \n",
    "    if error_i < 0.1:\n",
    "        break\n",
    "    # --- End plotting\n",
    "plt.show()\n",
    "plt.close()\n"
   ]
  }
 ],
 "metadata": {
  "kernelspec": {
   "display_name": "basic",
   "language": "python",
   "name": "basic"
  },
  "language_info": {
   "codemirror_mode": {
    "name": "ipython",
    "version": 3
   },
   "file_extension": ".py",
   "mimetype": "text/x-python",
   "name": "python",
   "nbconvert_exporter": "python",
   "pygments_lexer": "ipython3",
   "version": "3.9.6"
  },
  "orig_nbformat": 4
 },
 "nbformat": 4,
 "nbformat_minor": 2
}
